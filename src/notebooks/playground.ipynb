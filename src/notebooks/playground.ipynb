{
 "cells": [
  {
   "cell_type": "markdown",
   "source": [
    "# Sudoku - Console\n",
    "\n",
    "## Description\n",
    "\n",
    "This is a sudoku solver and generator package written in Kotlin, that uses Donald Knuth's [Algorithm X](https://en.wikipedia.org/wiki/Knuth%27s_Algorithm_X) to solve the puzzles. The algorithm is implemented using [Dancing Links](https://en.wikipedia.org/wiki/Dancing_Links).\n",
    "\n",
    "It can find all solutions to a given puzzle, or just the first one. It can also generate new puzzles with unique solutions."
   ],
   "metadata": {
    "collapsed": false
   }
  },
  {
   "cell_type": "markdown",
   "source": [
    "## Usage\n",
    "\n",
    "Make sure, that the module is selected to be used in the notebook."
   ],
   "metadata": {
    "collapsed": false
   }
  },
  {
   "cell_type": "code",
   "execution_count": 1,
   "outputs": [],
   "source": [
    "import com.leventebajak.sudokugenerator.*"
   ],
   "metadata": {
    "collapsed": false,
    "ExecuteTime": {
     "end_time": "2023-12-06T15:53:25.502797700Z",
     "start_time": "2023-12-06T15:53:25.404174200Z"
    }
   }
  },
  {
   "cell_type": "markdown",
   "source": [
    "### Generating a puzzle"
   ],
   "metadata": {
    "collapsed": false
   }
  },
  {
   "cell_type": "code",
   "execution_count": 2,
   "outputs": [
    {
     "name": "stdout",
     "output_type": "stream",
     "text": [
      "Clues:\r\n",
      "┏━━━━━━━━━━━┳━━━━━━━━━━━┳━━━━━━━━━━━┓\r\n",
      "┃ 4 │ 0 │ 0 ┃ 2 │ 0 │ 7 ┃ 1 │ 5 │ 0 ┃\r\n",
      "┃───┼───┼───┃───┼───┼───┃───┼───┼───┃\r\n",
      "┃ 0 │ 7 │ 0 ┃ 1 │ 5 │ 0 ┃ 3 │ 0 │ 0 ┃\r\n",
      "┃───┼───┼───┃───┼───┼───┃───┼───┼───┃\r\n",
      "┃ 0 │ 2 │ 1 ┃ 3 │ 6 │ 8 ┃ 4 │ 9 │ 0 ┃\r\n",
      "┣━━━━━━━━━━━╋━━━━━━━━━━━╋━━━━━━━━━━━┫\r\n",
      "┃ 2 │ 4 │ 6 ┃ 0 │ 0 │ 5 ┃ 7 │ 1 │ 0 ┃\r\n",
      "┃───┼───┼───┃───┼───┼───┃───┼───┼───┃\r\n",
      "┃ 9 │ 8 │ 0 ┃ 0 │ 2 │ 0 ┃ 5 │ 0 │ 3 ┃\r\n",
      "┃───┼───┼───┃───┼───┼───┃───┼───┼───┃\r\n",
      "┃ 0 │ 0 │ 0 ┃ 6 │ 7 │ 9 ┃ 2 │ 0 │ 4 ┃\r\n",
      "┣━━━━━━━━━━━╋━━━━━━━━━━━╋━━━━━━━━━━━┫\r\n",
      "┃ 0 │ 0 │ 4 ┃ 5 │ 0 │ 0 ┃ 9 │ 7 │ 0 ┃\r\n",
      "┃───┼───┼───┃───┼───┼───┃───┼───┼───┃\r\n",
      "┃ 3 │ 0 │ 2 ┃ 0 │ 0 │ 6 ┃ 0 │ 4 │ 0 ┃\r\n",
      "┃───┼───┼───┃───┼───┼───┃───┼───┼───┃\r\n",
      "┃ 7 │ 5 │ 0 ┃ 9 │ 4 │ 0 ┃ 0 │ 0 │ 1 ┃\r\n",
      "┗━━━━━━━━━━━┻━━━━━━━━━━━┻━━━━━━━━━━━┛\r\n",
      "Solution 1 of 1:\r\n",
      "┏━━━━━━━━━━━┳━━━━━━━━━━━┳━━━━━━━━━━━┓\r\n",
      "┃ 4 │ 6 │ 3 ┃ 2 │ 9 │ 7 ┃ 1 │ 5 │ 8 ┃\r\n",
      "┃───┼───┼───┃───┼───┼───┃───┼───┼───┃\r\n",
      "┃ 8 │ 7 │ 9 ┃ 1 │ 5 │ 4 ┃ 3 │ 2 │ 6 ┃\r\n",
      "┃───┼───┼───┃───┼───┼───┃───┼───┼───┃\r\n",
      "┃ 5 │ 2 │ 1 ┃ 3 │ 6 │ 8 ┃ 4 │ 9 │ 7 ┃\r\n",
      "┣━━━━━━━━━━━╋━━━━━━━━━━━╋━━━━━━━━━━━┫\r\n",
      "┃ 2 │ 4 │ 6 ┃ 8 │ 3 │ 5 ┃ 7 │ 1 │ 9 ┃\r\n",
      "┃───┼───┼───┃───┼───┼───┃───┼───┼───┃\r\n",
      "┃ 9 │ 8 │ 7 ┃ 4 │ 2 │ 1 ┃ 5 │ 6 │ 3 ┃\r\n",
      "┃───┼───┼───┃───┼───┼───┃───┼───┼───┃\r\n",
      "┃ 1 │ 3 │ 5 ┃ 6 │ 7 │ 9 ┃ 2 │ 8 │ 4 ┃\r\n",
      "┣━━━━━━━━━━━╋━━━━━━━━━━━╋━━━━━━━━━━━┫\r\n",
      "┃ 6 │ 1 │ 4 ┃ 5 │ 8 │ 3 ┃ 9 │ 7 │ 2 ┃\r\n",
      "┃───┼───┼───┃───┼───┼───┃───┼───┼───┃\r\n",
      "┃ 3 │ 9 │ 2 ┃ 7 │ 1 │ 6 ┃ 8 │ 4 │ 5 ┃\r\n",
      "┃───┼───┼───┃───┼───┼───┃───┼───┼───┃\r\n",
      "┃ 7 │ 5 │ 8 ┃ 9 │ 4 │ 2 ┃ 6 │ 3 │ 1 ┃\r\n",
      "┗━━━━━━━━━━━┻━━━━━━━━━━━┻━━━━━━━━━━━┛\r\n"
     ]
    }
   ],
   "source": [
    "val sudoku = SudokuGenerator.generate(SudokuGenerator.Difficulty.EASY)\n",
    "println(\"Clues:\")\n",
    "sudoku.clues.print()\n",
    "\n",
    "for ((index, solution) in sudoku.solutions.withIndex()) {\n",
    "    println(\"Solution ${index + 1} of ${sudoku.solutions.size}:\")\n",
    "    solution.print()\n",
    "}"
   ],
   "metadata": {
    "collapsed": false,
    "ExecuteTime": {
     "end_time": "2023-12-06T15:53:26.409581700Z",
     "start_time": "2023-12-06T15:53:25.506812600Z"
    }
   }
  },
  {
   "cell_type": "markdown",
   "source": [
    "### Solving a puzzle"
   ],
   "metadata": {
    "collapsed": false
   }
  },
  {
   "cell_type": "code",
   "execution_count": 3,
   "outputs": [
    {
     "name": "stdout",
     "output_type": "stream",
     "text": [
      "Solution 1:\r\n",
      "┏━━━━━━━━━━━┳━━━━━━━━━━━┳━━━━━━━━━━━┓\r\n",
      "┃ 3 │ 1 │ 4 ┃ 5 │ 7 │ 2 ┃ 8 │ 6 │ 9 ┃\r\n",
      "┃───┼───┼───┃───┼───┼───┃───┼───┼───┃\r\n",
      "┃ 7 │ 2 │ 9 ┃ 3 │ 6 │ 8 ┃ 4 │ 5 │ 1 ┃\r\n",
      "┃───┼───┼───┃───┼───┼───┃───┼───┼───┃\r\n",
      "┃ 8 │ 6 │ 5 ┃ 1 │ 9 │ 4 ┃ 3 │ 2 │ 7 ┃\r\n",
      "┣━━━━━━━━━━━╋━━━━━━━━━━━╋━━━━━━━━━━━┫\r\n",
      "┃ 2 │ 8 │ 3 ┃ 6 │ 1 │ 5 ┃ 7 │ 9 │ 4 ┃\r\n",
      "┃───┼───┼───┃───┼───┼───┃───┼───┼───┃\r\n",
      "┃ 4 │ 9 │ 1 ┃ 8 │ 2 │ 7 ┃ 6 │ 3 │ 5 ┃\r\n",
      "┃───┼───┼───┃───┼───┼───┃───┼───┼───┃\r\n",
      "┃ 6 │ 5 │ 7 ┃ 9 │ 4 │ 3 ┃ 2 │ 1 │ 8 ┃\r\n",
      "┣━━━━━━━━━━━╋━━━━━━━━━━━╋━━━━━━━━━━━┫\r\n",
      "┃ 1 │ 4 │ 2 ┃ 7 │ 3 │ 9 ┃ 5 │ 8 │ 6 ┃\r\n",
      "┃───┼───┼───┃───┼───┼───┃───┼───┼───┃\r\n",
      "┃ 5 │ 3 │ 6 ┃ 4 │ 8 │ 1 ┃ 9 │ 7 │ 2 ┃\r\n",
      "┃───┼───┼───┃───┼───┼───┃───┼───┼───┃\r\n",
      "┃ 9 │ 7 │ 8 ┃ 2 │ 5 │ 6 ┃ 1 │ 4 │ 3 ┃\r\n",
      "┗━━━━━━━━━━━┻━━━━━━━━━━━┻━━━━━━━━━━━┛\r\n",
      "Solution 2:\r\n",
      "┏━━━━━━━━━━━┳━━━━━━━━━━━┳━━━━━━━━━━━┓\r\n",
      "┃ 3 │ 1 │ 4 ┃ 5 │ 7 │ 6 ┃ 8 │ 2 │ 9 ┃\r\n",
      "┃───┼───┼───┃───┼───┼───┃───┼───┼───┃\r\n",
      "┃ 7 │ 2 │ 6 ┃ 3 │ 9 │ 8 ┃ 4 │ 5 │ 1 ┃\r\n",
      "┃───┼───┼───┃───┼───┼───┃───┼───┼───┃\r\n",
      "┃ 8 │ 5 │ 9 ┃ 1 │ 2 │ 4 ┃ 3 │ 6 │ 7 ┃\r\n",
      "┣━━━━━━━━━━━╋━━━━━━━━━━━╋━━━━━━━━━━━┫\r\n",
      "┃ 2 │ 8 │ 3 ┃ 6 │ 1 │ 5 ┃ 7 │ 9 │ 4 ┃\r\n",
      "┃───┼───┼───┃───┼───┼───┃───┼───┼───┃\r\n",
      "┃ 4 │ 9 │ 1 ┃ 2 │ 8 │ 7 ┃ 6 │ 3 │ 5 ┃\r\n",
      "┃───┼───┼───┃───┼───┼───┃───┼───┼───┃\r\n",
      "┃ 6 │ 7 │ 5 ┃ 9 │ 4 │ 3 ┃ 2 │ 1 │ 8 ┃\r\n",
      "┣━━━━━━━━━━━╋━━━━━━━━━━━╋━━━━━━━━━━━┫\r\n",
      "┃ 1 │ 4 │ 2 ┃ 8 │ 3 │ 9 ┃ 5 │ 7 │ 6 ┃\r\n",
      "┃───┼───┼───┃───┼───┼───┃───┼───┼───┃\r\n",
      "┃ 5 │ 3 │ 7 ┃ 4 │ 6 │ 1 ┃ 9 │ 8 │ 2 ┃\r\n",
      "┃───┼───┼───┃───┼───┼───┃───┼───┼───┃\r\n",
      "┃ 9 │ 6 │ 8 ┃ 7 │ 5 │ 2 ┃ 1 │ 4 │ 3 ┃\r\n",
      "┗━━━━━━━━━━━┻━━━━━━━━━━━┻━━━━━━━━━━━┛\r\n"
     ]
    }
   ],
   "source": [
    "val clues = \"\"\"\n",
    "        004500009\n",
    "        720000050\n",
    "        000104300\n",
    "        003000000\n",
    "        490007000\n",
    "        000043208\n",
    "        002030006\n",
    "        500000902\n",
    "        008050040\n",
    "    \"\"\".toBoard()\n",
    "\n",
    "val solutions = clues.solve()\n",
    "\n",
    "for ((index, solution) in solutions.withIndex()) {\n",
    "    println(\"Solution ${index + 1}:\")\n",
    "    solution.print()\n",
    "}"
   ],
   "metadata": {
    "collapsed": false,
    "ExecuteTime": {
     "end_time": "2023-12-06T15:53:26.657042200Z",
     "start_time": "2023-12-06T15:53:26.346017500Z"
    }
   }
  }
 ],
 "metadata": {
  "kernelspec": {
   "display_name": "Kotlin",
   "language": "kotlin",
   "name": "kotlin"
  },
  "language_info": {
   "name": "kotlin",
   "version": "1.9.0",
   "mimetype": "text/x-kotlin",
   "file_extension": ".kt",
   "pygments_lexer": "kotlin",
   "codemirror_mode": "text/x-kotlin",
   "nbconvert_exporter": ""
  },
  "ktnbPluginMetadata": {
   "projectDependencies": [
    "Sudoku.main",
    "Sudoku.test"
   ]
  }
 },
 "nbformat": 4,
 "nbformat_minor": 0
}
